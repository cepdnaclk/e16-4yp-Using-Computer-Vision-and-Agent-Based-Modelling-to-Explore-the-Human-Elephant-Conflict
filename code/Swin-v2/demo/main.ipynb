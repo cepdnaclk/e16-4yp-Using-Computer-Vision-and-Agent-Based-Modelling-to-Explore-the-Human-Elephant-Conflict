{
  "cells": [
    {
      "cell_type": "markdown",
      "metadata": {
        "id": "W9ApQZri1upa"
      },
      "source": [
        "**Prerequisites:**\n",
        "\n",
        "Add shortcut of LoveDA dataset to your personal GDrive\n",
        "[https://drive.google.com/drive/folders/1ibYV0qwn4yuuh068Rnc-w4tPi0U0c-ti](https://drive.google.com/drive/folders/1ibYV0qwn4yuuh068Rnc-w4tPi0U0c-ti)"
      ]
    },
    {
      "cell_type": "code",
      "execution_count": null,
      "metadata": {
        "colab": {
          "base_uri": "https://localhost:8080/"
        },
        "id": "PJ-Z55ROAv1X",
        "outputId": "b19c5ae1-fb3e-4a50-9ba7-48cd53742c70"
      },
      "outputs": [],
      "source": [
        "# !nvidia-smi"
      ]
    },
    {
      "cell_type": "code",
      "execution_count": null,
      "metadata": {
        "colab": {
          "base_uri": "https://localhost:8080/"
        },
        "id": "fhC2gUpE2Z9W",
        "outputId": "93a9087d-fdb1-40bc-b562-81b33f6576c6"
      },
      "outputs": [],
      "source": [
        "from google.colab import drive\n",
        "drive.mount('/content/drive')"
      ]
    },
    {
      "cell_type": "code",
      "execution_count": null,
      "metadata": {
        "colab": {
          "base_uri": "https://localhost:8080/"
        },
        "id": "0WOK0O7njZku",
        "outputId": "2b826730-99ef-4399-d0e9-4fa3539efd11"
      },
      "outputs": [],
      "source": [
        "!git clone https://github.com/cepdnaclk/e16-4yp-Using-Computer-Vision-and-Agent-Based-Modelling-to-Explore-the-Human-Elephant-Conflict\n",
        "# %cd /content/e16-4yp-Using-Computer-Vision-and-Agent-Based-Modelling-to-Explore-the-Human-Elephant-Conflict\n",
        "# !git checkout swin_loveda\n",
        "# !git branch\n",
        "%cd /content/e16-4yp-Using-Computer-Vision-and-Agent-Based-Modelling-to-Explore-the-Human-Elephant-Conflict/code/Swin-v2\n",
        "!git branch"
      ]
    },
    {
      "cell_type": "code",
      "execution_count": null,
      "metadata": {
        "colab": {
          "base_uri": "https://localhost:8080/",
          "height": 35
        },
        "id": "aXI4nE-D-MdO",
        "outputId": "9d5a4d22-c2da-42c5-b1ec-394d7a972cbd"
      },
      "outputs": [],
      "source": [
        "import torch\n",
        "torch.__version__"
      ]
    },
    {
      "cell_type": "code",
      "execution_count": null,
      "metadata": {
        "colab": {
          "base_uri": "https://localhost:8080/"
        },
        "id": "lij9Puu4jZk0",
        "outputId": "b937ae24-2e21-422d-f824-78e7732ca3b0"
      },
      "outputs": [],
      "source": [
        "!pip install terminaltables\n",
        "# use appropriate mmcv version according to torch and cuda version of Colab\n",
        "!pip install mmcv-full==1.7.0 -f https://download.openmmlab.com/mmcv/dist/cu113/torch1.12/index.html\n",
        "!git clone https://github.com/open-mmlab/mmsegmentation.git\n",
        "%cd mmsegmentation\n",
        "!pip install -e .  \n",
        "%cd /content/e16-4yp-Using-Computer-Vision-and-Agent-Based-Modelling-to-Explore-the-Human-Elephant-Conflict/code/Swin-v2"
      ]
    },
    {
      "cell_type": "code",
      "execution_count": null,
      "metadata": {
        "colab": {
          "base_uri": "https://localhost:8080/"
        },
        "id": "5vwERTEFjZk0",
        "outputId": "865f6fa2-30e6-448c-fc42-4dacd08f329f"
      },
      "outputs": [],
      "source": [
        "DATASET_FOLDER = '/content/drive/MyDrive/2021LoveDA'\n",
        "!python tools/convert_datasets/loveda.py $DATASET_FOLDER"
      ]
    },
    {
      "cell_type": "code",
      "execution_count": null,
      "metadata": {
        "colab": {
          "base_uri": "https://localhost:8080/"
        },
        "id": "qkWZCXGujZk1",
        "outputId": "98f9e9e0-d5c3-412b-deea-89c731ce96e3"
      },
      "outputs": [],
      "source": [
        "!bash script4_download_models.sh"
      ]
    },
    {
      "cell_type": "code",
      "execution_count": null,
      "metadata": {
        "id": "ddXYFuQMjZk1"
      },
      "outputs": [],
      "source": [
        "# train Swin-Tiny model\n",
        "# !tools/dist_train.sh configs/swin/upernet_swin_tiny_patch4_window7_512x512_160k_loveda.py 1 --cfg-options model.pretrained=swin_tiny_patch4_window7_224_22k_converted.pth\n",
        "\n",
        "# train Swin-Large model\n",
        "!tools/dist_train.sh configs/swin/upernet_swin_base_patch4_window7_512x512_160k_loveda.py 8 --cfg-options model.pretrained=swin_base_patch4_window12_384_22kto1k_converted.pth"
      ]
    }
  ],
  "metadata": {
    "accelerator": "GPU",
    "colab": {
      "provenance": []
    },
    "gpuClass": "standard",
    "kernelspec": {
      "display_name": "Python 3",
      "name": "python3"
    },
    "language_info": {
      "name": "python"
    },
    "orig_nbformat": 4
  },
  "nbformat": 4,
  "nbformat_minor": 0
}
