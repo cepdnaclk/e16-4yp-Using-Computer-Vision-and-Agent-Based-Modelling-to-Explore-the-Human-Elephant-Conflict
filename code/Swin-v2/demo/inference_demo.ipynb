{
  "cells": [
    {
      "cell_type": "code",
      "execution_count": null,
      "metadata": {
        "id": "_ODYQm2AAR2f"
      },
      "outputs": [],
      "source": [
        "from google.colab import drive\n",
        "drive.mount('/content/drive')"
      ]
    },
    {
      "cell_type": "code",
      "execution_count": null,
      "metadata": {
        "id": "LpLLKlJqLg9S"
      },
      "outputs": [],
      "source": [
        "!git clone https://github.com/cepdnaclk/e16-4yp-Using-Computer-Vision-and-Agent-Based-Modelling-to-Explore-the-Human-Elephant-Conflict\n",
        "# %cd /content/e16-4yp-Using-Computer-Vision-and-Agent-Based-Modelling-to-Explore-the-Human-Elephant-Conflict\n",
        "# !git checkout swin_loveda\n",
        "# !git branch\n",
        "%cd /content/e16-4yp-Using-Computer-Vision-and-Agent-Based-Modelling-to-Explore-the-Human-Elephant-Conflict/code/Swin-v2\n",
        "!git branch"
      ]
    },
    {
      "cell_type": "code",
      "execution_count": null,
      "metadata": {
        "id": "3oRTuYOsuPiB"
      },
      "outputs": [],
      "source": [
        "!pip install -U openmim\n",
        "!mim install mmcv-full\n",
        "!pip install terminaltables"
      ]
    },
    {
      "cell_type": "code",
      "execution_count": null,
      "metadata": {
        "id": "UUYJUkOLXDPc"
      },
      "outputs": [],
      "source": [
        "swin_tiny = 'swin-tiny-160k-complete'\n",
        "swin_base = 'swin-base-160k-complete'\n",
        "\n",
        "MODEL = swin_tiny\n",
        "# MODEL = swin_base\n",
        "\n",
        "config_tiny = 'configs/swin/upernet_swin_tiny_patch4_window7_512x512_160k_loveda.py'\n",
        "config_base = 'configs/swin/upernet_swin_base_patch4_window7_512x512_160k_loveda.py'\n",
        "\n",
        "CONFIG_FILE = config_tiny if MODEL == swin_tiny else config_base \n",
        "\n",
        "CHECKPOINT = f'/content/drive/Shareddrives/FYP-student-group/FYP-related/Pretrained checkpoints/swin/{MODEL}.pth'\n",
        "CHECKPOINT_CONVERTED = (CHECKPOINT.split('/')[-1]).split('.')[0]+'_converted.pth'\n",
        "\n",
        "# convert model parameters\n",
        "# !python tools/model_converters/swin2mmseg.py \"$CHECKPOINT\" \"$CHECKPOINT_CONVERTED\""
      ]
    },
    {
      "cell_type": "code",
      "execution_count": null,
      "metadata": {
        "id": "apFCZ9gr9efr"
      },
      "outputs": [],
      "source": [
        "import sys\n",
        "import os\n",
        "from mmseg.apis import init_segmentor, inference_segmentor, show_result_pyplot\n",
        "from mmseg.core.evaluation import get_palette"
      ]
    },
    {
      "cell_type": "code",
      "execution_count": null,
      "metadata": {
        "id": "y7NTCIuq9eft"
      },
      "outputs": [],
      "source": [
        "# build the model from a config file and a checkpoint file\n",
        "model = init_segmentor(CONFIG_FILE, CHECKPOINT, device='cuda')"
      ]
    },
    {
      "cell_type": "code",
      "execution_count": null,
      "metadata": {
        "id": "mdIN8Tao9efv"
      },
      "outputs": [],
      "source": [
        "from datetime import datetime\n",
        "import mmcv\n",
        "\n",
        "image_folder = '/content/drive/Shareddrives/FYP-student-group/FYP-related/swin-inference-results'\n",
        "\n",
        "# test images\n",
        "images = ['4191.png', '4192.png', '4193.png', '4194.png', '4195.png', '4196.png', '4197.png', '4198.png', '4199.png', '4200.png', '5984.png', '5985.png']\n",
        "\n",
        "results_folder = f'{image_folder}/' + str(datetime.now())\n",
        "\n",
        "for img in images:\n",
        "  image_path = f'{image_folder}/original/{img}'\n",
        "  output_path = f'{results_folder}/{img}'\n",
        "  gray_path = f'{results_folder}/gray/{img}'\n",
        "\n",
        "  result = inference_segmentor(model, image_path)\n",
        "  mmcv.imwrite(result[0], gray_path) # save grayscale file\n",
        "  show_result_pyplot(model, image_path, result, get_palette('loveda'), out_file=output_path)"
      ]
    }
  ],
  "metadata": {
    "accelerator": "GPU",
    "colab": {
      "provenance": []
    },
    "gpuClass": "standard",
    "kernelspec": {
      "display_name": "Python 3",
      "language": "python",
      "name": "python3"
    },
    "language_info": {
      "codemirror_mode": {
        "name": "ipython",
        "version": 3
      },
      "file_extension": ".py",
      "mimetype": "text/x-python",
      "name": "python",
      "nbconvert_exporter": "python",
      "pygments_lexer": "ipython3",
      "version": "3.7.13"
    },
    "pycharm": {
      "stem_cell": {
        "cell_type": "raw",
        "metadata": {
          "collapsed": false
        },
        "source": []
      }
    }
  },
  "nbformat": 4,
  "nbformat_minor": 0
}