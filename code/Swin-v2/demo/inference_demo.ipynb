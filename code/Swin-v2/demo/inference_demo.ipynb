{
  "cells": [
    {
      "cell_type": "code",
      "execution_count": null,
      "metadata": {
        "colab": {
          "base_uri": "https://localhost:8080/"
        },
        "id": "_ODYQm2AAR2f",
        "outputId": "906394c7-57b4-483d-c8a2-dc33605b3161"
      },
      "outputs": [],
      "source": [
        "from google.colab import drive\n",
        "drive.mount('/content/drive')"
      ]
    },
    {
      "cell_type": "code",
      "execution_count": null,
      "metadata": {
        "colab": {
          "base_uri": "https://localhost:8080/"
        },
        "id": "LpLLKlJqLg9S",
        "outputId": "b3d2f6d2-2ac7-4762-fe6d-4466de5fa8a4"
      },
      "outputs": [],
      "source": [
        "!git clone https://github.com/cepdnaclk/e16-4yp-Using-Computer-Vision-and-Agent-Based-Modelling-to-Explore-the-Human-Elephant-Conflict\n",
        "# %cd /content/e16-4yp-Using-Computer-Vision-and-Agent-Based-Modelling-to-Explore-the-Human-Elephant-Conflict\n",
        "# !git checkout swin_loveda\n",
        "# !git branch\n",
        "%cd /content/e16-4yp-Using-Computer-Vision-and-Agent-Based-Modelling-to-Explore-the-Human-Elephant-Conflict/code/Swin-v2\n",
        "!git branch"
      ]
    },
    {
      "cell_type": "code",
      "execution_count": null,
      "metadata": {},
      "outputs": [],
      "source": [
        "!pip install -U openmim\n",
        "!mim install mmcv-full\n",
        "!pip install terminaltables"
      ]
    },
    {
      "cell_type": "code",
      "execution_count": null,
      "metadata": {
        "colab": {
          "base_uri": "https://localhost:8080/"
        },
        "id": "UUYJUkOLXDPc",
        "outputId": "53b0f403-e6a1-402d-abff-4b6eefe269b3"
      },
      "outputs": [],
      "source": [
        "FILE_NAME = 'iter_32000.pth'\n",
        "MODEL_CONVERTED = FILE_NAME.split('.')[0]+'_converted.pth'\n",
        "\n",
        "!curl 'https://mediaflux.researchsoftware.unimelb.edu.au:8443/mflux/share.mfjp?browser=false&_token=5zWSUramAjKuCXXDZpmt1128225375&filename=iter_32000.pth' --output $FILE_NAME\n",
        "\n",
        "# convert model parameters\n",
        "!python tools/model_converters/swin2mmseg.py $FILE_NAME $MODEL_CONVERTED"
      ]
    },
    {
      "cell_type": "code",
      "execution_count": null,
      "metadata": {
        "id": "5wItZvcgLMV4"
      },
      "outputs": [],
      "source": [
        "# remove depending on GDrive, upload testing images directly to the repository\n",
        "# but outputs are saving to drive :|\n",
        "base = '/content/drive/Shareddrives/FYP-student-group/FYP-related/Code-colab/swin-inference/mmsegmentation/'\n",
        "\n",
        "# tiny\n",
        "config_file = 'configs/swin/upernet_swin_tiny_patch4_window7_512x512_160k_loveda.py'\n",
        "# base\n",
        "# config_file = 'configs/swin/upernet_swin_base_patch4_window7_512x512_160k_loveda.py'"
      ]
    },
    {
      "cell_type": "code",
      "execution_count": null,
      "metadata": {
        "colab": {
          "base_uri": "https://localhost:8080/"
        },
        "id": "apFCZ9gr9efr",
        "outputId": "66813d95-ecb9-4659-ee8f-eb8a590d67e9"
      },
      "outputs": [],
      "source": [
        "import sys\n",
        "import os\n",
        "from mmseg.apis import init_segmentor, inference_segmentor, show_result_pyplot\n",
        "from mmseg.core.evaluation import get_palette"
      ]
    },
    {
      "cell_type": "code",
      "execution_count": null,
      "metadata": {
        "colab": {
          "base_uri": "https://localhost:8080/"
        },
        "id": "y7NTCIuq9eft",
        "outputId": "65693325-5806-4636-e55b-52d596d08d15"
      },
      "outputs": [],
      "source": [
        "# build the model from a config file and a checkpoint file\n",
        "model = init_segmentor(config_file, FILE_NAME, device='cuda')"
      ]
    },
    {
      "cell_type": "code",
      "execution_count": null,
      "metadata": {
        "colab": {
          "base_uri": "https://localhost:8080/",
          "height": 1000
        },
        "id": "mdIN8Tao9efv",
        "outputId": "f940ad5e-42eb-4250-d98e-94dc0289f1e0"
      },
      "outputs": [],
      "source": [
        "# test images\n",
        "images = ['4191.png', '4192.png', '4193.png', '4194.png', '4195.png', '4196.png', '4197.png', '4198.png', '4199.png', '4200.png', '5984.png', '5985.png']\n",
        "\n",
        "for img in images:\n",
        "  image_path = f'{base}data/{img}'\n",
        "  output_path = f'{base}results/{img}'\n",
        "  result = inference_segmentor(model, image_path)\n",
        "  show_result_pyplot(model, image_path, result, get_palette('loveda'), out_file=output_path)\n"
      ]
    }
  ],
  "metadata": {
    "accelerator": "GPU",
    "colab": {
      "provenance": []
    },
    "gpuClass": "standard",
    "kernelspec": {
      "display_name": "Python 3",
      "language": "python",
      "name": "python3"
    },
    "language_info": {
      "codemirror_mode": {
        "name": "ipython",
        "version": 3
      },
      "file_extension": ".py",
      "mimetype": "text/x-python",
      "name": "python",
      "nbconvert_exporter": "python",
      "pygments_lexer": "ipython3",
      "version": "3.7.13"
    },
    "pycharm": {
      "stem_cell": {
        "cell_type": "raw",
        "metadata": {
          "collapsed": false
        },
        "source": []
      }
    }
  },
  "nbformat": 4,
  "nbformat_minor": 0
}
